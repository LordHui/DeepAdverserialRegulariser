{
 "cells": [
  {
   "cell_type": "code",
   "execution_count": 5,
   "metadata": {
    "collapsed": false
   },
   "outputs": [
    {
     "name": "stdout",
     "output_type": "stream",
     "text": [
      "Training Data found: 397\nEvaluation Data found: 278\n"
     ]
    },
    {
     "name": "stdout",
     "output_type": "stream",
     "text": [
      "Data: 176.84590087488598, Noise: 1.4871757185906775, perc: 0.008409444104914916\nFBP: 62.53606771795777, Noise: 6.960597722487407, perc: 0.11130533109117462\nData: 200.65521579316098, Noise: 1.4831019513975214, perc: 0.007391295289958123\nFBP: 70.92950120101649, Noise: 7.1846512166039105, perc: 0.10129284846149386\nData: 221.19361922872008, Noise: 1.487994789729687, perc: 0.006727114439006763\nFBP: 77.90364265592784, Noise: 7.597994148173819, perc: 0.09753066595013285\nData: 200.21632831764745, Noise: 1.5017276986633152, perc: 0.007500525612880046\nFBP: 70.76774843634634, Noise: 7.2326162354892904, perc: 0.10220215275034265\n"
     ]
    },
    {
     "name": "stdout",
     "output_type": "stream",
     "text": [
      "Data: 232.6860310858819, Noise: 1.4905833464426808, perc: 0.006405985522579663\nFBP: 81.6360599800266, Noise: 7.47696250236142, perc: 0.09158896821074858\nData: 203.54844325123196, Noise: 1.486321468062663, perc: 0.00730205274146044\nFBP: 71.96555436891319, Noise: 7.293602154303037, perc: 0.10134851622088857\nData: 231.92525567249032, Noise: 1.4634744576693959, perc: 0.006310112512006967\nFBP: 81.43558132812709, Noise: 7.469366965887655, perc: 0.0917211720487566\nData: 228.48523783004012, Noise: 1.4699727102588127, perc: 0.006433556601815384\nFBP: 80.15939321322548, Noise: 7.340751912533036, perc: 0.0915769396233639\n"
     ]
    },
    {
     "name": "stdout",
     "output_type": "stream",
     "text": [
      "Data: 219.3992507963507, Noise: 1.4888676967267183, perc: 0.006786111125368905\nFBP: 77.35019859480808, Noise: 7.66510966979599, perc: 0.09909618603500897\nData: 181.30208303408983, Noise: 1.5035413423213404, perc: 0.008293017472053164\nFBP: 64.14374421465432, Noise: 7.09101875593841, perc: 0.11054887491769448\nData: 212.3507012291224, Noise: 1.5039276517856237, perc: 0.007082282484025867\nFBP: 75.00347973698453, Noise: 7.531149709199972, perc: 0.10041067075300415\nData: 144.92655737044885, Noise: 1.4861173342438803, perc: 0.01025427886515785\nFBP: 51.377594596891164, Noise: 6.6883849512132025, perc: 0.13018096708672916\n"
     ]
    },
    {
     "name": "stdout",
     "output_type": "stream",
     "text": [
      "Data: 225.72175903089183, Noise: 1.484104894858676, perc: 0.0065749305748391065\nFBP: 79.20420231315066, Noise: 7.307450597062947, perc: 0.09226089504912109\nData: 154.4077394433323, Noise: 1.4593620577448652, perc: 0.009451353041020665\nFBP: 54.705468030370376, Noise: 6.606812469587795, perc: 0.12077060497718338\nData: 220.37324517168594, Noise: 1.4859384434453333, perc: 0.006742825982744343\nFBP: 77.65905427532259, Noise: 7.631835875019993, perc: 0.09827361337627223\nData: 204.00143611626856, Noise: 1.4579824661330854, perc: 0.007146922560398658\nFBP: 72.09559558214184, Noise: 7.200349682687537, perc: 0.09987225467169969\nData: 215.54823814809993, Noise: 1.4948681624596116, perc: 0.0069351908199430995\nFBP: 75.95350590060836, Noise: 7.577209291485398, perc: 0.0997611525845933\nData: 216.80918489826487, Noise: 1.4949518133454514, perc: 0.006895242072179459\nFBP: 76.0542505284057, Noise: 7.132462725884574, perc: 0.0937812505721906\n"
     ]
    },
    {
     "name": "stdout",
     "output_type": "stream",
     "text": [
      "Data: 206.1249431473542, Noise: 1.484654851934674, perc: 0.007202693809226799\nFBP: 72.70928172136966, Noise: 7.509814897432637, perc: 0.10328550522904506\nData: 222.1859440873792, Noise: 1.4812879082701984, perc: 0.006666883966735769\nFBP: 78.18380911552276, Noise: 7.46042005731853, perc: 0.09542154752648556\nData: 241.9660681273306, Noise: 1.4973583006646933, perc: 0.0061882986827588304\nFBP: 84.8809253270427, Noise: 7.503761873936445, perc: 0.08840339387235424\nData: 156.66120890316148, Noise: 1.4958467204877135, perc: 0.009548290422119465\nFBP: 55.547578230428954, Noise: 6.870083802446424, perc: 0.12367926777918453\nData: 237.31891122495907, Noise: 1.4719886784480953, perc: 0.00620257640172961\nFBP: 83.2875495975764, Noise: 7.4183081478438995, perc: 0.08906863251094814\nData: 226.77887081913076, Noise: 1.4805481418871718, perc: 0.0065285982619959085\nFBP: 79.87235299800238, Noise: 7.634321174947128, perc: 0.09558152337315094\nData: 243.30868703665308, Noise: 1.4910024361030842, perc: 0.006128027956019808\nFBP: 85.3618818847514, Noise: 7.53615071886641, perc: 0.08828473028559869\nData: 229.8762744662876, Noise: 1.4580928422543267, perc: 0.006342946202863413\nFBP: 80.6385980538709, Noise: 7.2844595322844805, perc: 0.09033465000740802\nData: 182.6142407850494, Noise: 1.4742744924481506, perc: 0.008073162783528378\nFBP: 64.52996745093515, Noise: 7.012878288088631, perc: 0.1086763028885892\n"
     ]
    },
    {
     "name": "stdout",
     "output_type": "stream",
     "text": [
      "Data: 219.44304500257007, Noise: 1.4692343055415218, perc: 0.006695287633856495\nFBP: 77.40770714211861, Noise: 7.60467547103592, perc: 0.09824183859462374\nData: 212.03279522281454, Noise: 1.4708321604665486, perc: 0.006936814462691611\nFBP: 74.8926575590024, Noise: 7.40944065304633, perc: 0.0989341398014749\nData: 143.48810381874867, Noise: 1.4785133674231443, perc: 0.010304083252021876\nFBP: 50.836712500816034, Noise: 6.55543530168889, perc: 0.12895081092396882\nData: 136.60516353024508, Noise: 1.491285760647391, perc: 0.010916759821580337\nFBP: 48.52420918421159, Noise: 6.638222221551137, perc: 0.136802275259151\nData: 211.9885573268048, Noise: 1.4714492992152781, perc: 0.006941173230151613\nFBP: 74.8976645580488, Noise: 7.429245928649783, perc: 0.09919195708554848\n"
     ]
    }
   ],
   "source": [
    "import matplotlib.pyplot as plt\n",
    "import numpy as np\n",
    "%matplotlib inline\n",
    "\n",
    "from forward_models import ct\n",
    "from forward_models import denoising\n",
    "\n",
    "from data_pips import BSDS\n",
    "\n",
    "from Framework import adversarial_regulariser\n",
    "from Framework import positiv_adversarial_regulariser\n",
    "from Framework import postprocessing\n",
    "from Framework import iterative_scheme\n",
    "from Framework import total_variation\n",
    "from Framework import generic_framework\n",
    "from Framework import total_variation\n",
    "\n",
    "import util as ut\n",
    "\n",
    "from networks import multiscale_l1_classifier\n",
    "\n",
    "def l2(pic):\n",
    "    return np.sqrt(np.sum(np.square(pic)))\n",
    "\n",
    "data_gen = generic_framework()\n",
    "for i in range(32):\n",
    "    image = data_gen.data_pip.load_data(training_data=False)\n",
    "    data =  data_gen.model.forward_operator(image[...,0])\n",
    "    \n",
    "    # add white Gaussian noise\n",
    "    noisy_data = data + np.random.normal(size = data_gen.measurement_space) * 0.02\n",
    "    \n",
    "    # percentual noise:\n",
    "    norm = l2(data)\n",
    "    error = l2(noisy_data-data)\n",
    "    perc = error/norm\n",
    "    \n",
    "    fbp = data_gen.model.inverse(noisy_data)\n",
    "    norm_fbp = l2(fbp)\n",
    "    error_fbp = l2(fbp - image)\n",
    "    perc_fbp = error_fbp/norm_fbp\n",
    "    \n",
    "    print('Data: {}, Noise: {}, perc: {}'.format(norm, error, perc))\n",
    "    print('FBP: {}, Noise: {}, perc: {}'.format(norm_fbp, error_fbp, perc_fbp))"
   ]
  },
  {
   "cell_type": "code",
   "execution_count": 4,
   "metadata": {},
   "outputs": [
    {
     "name": "stdout",
     "output_type": "stream",
     "text": [
      "0.01"
     ]
    },
    {
     "name": "stdout",
     "output_type": "stream",
     "text": [
      "\n"
     ]
    },
    {
     "name": "stdout",
     "output_type": "stream",
     "text": [
      "Quality of reconstructed image: 2.17373SSIM: 0.964549514749\n"
     ]
    },
    {
     "name": "stdout",
     "output_type": "stream",
     "text": [
      "Lambda: 0.0004572473708276177, MSE: 2.17373347085, OriginalError: 8.22812577573\n"
     ]
    },
    {
     "name": "stdout",
     "output_type": "stream",
     "text": [
      "Quality of reconstructed image: 2.63416SSIM: 0.952508221097\n"
     ]
    },
    {
     "name": "stdout",
     "output_type": "stream",
     "text": [
      "Lambda: 0.0013717421124828531, MSE: 2.63416026367, OriginalError: 8.22812577573\n"
     ]
    },
    {
     "name": "stdout",
     "output_type": "stream",
     "text": [
      "Quality of reconstructed image: 3.56039SSIM: 0.924662641711\n"
     ]
    },
    {
     "name": "stdout",
     "output_type": "stream",
     "text": [
      "Lambda: 0.00411522633744856, MSE: 3.56038617279, OriginalError: 8.22812577573\n"
     ]
    },
    {
     "name": "stdout",
     "output_type": "stream",
     "text": [
      "Quality of reconstructed image: 4.93201SSIM: 0.871121646578\n"
     ]
    },
    {
     "name": "stdout",
     "output_type": "stream",
     "text": [
      "Lambda: 0.012345679012345678, MSE: 4.93200997927, OriginalError: 8.22812577573\n"
     ]
    },
    {
     "name": "stdout",
     "output_type": "stream",
     "text": [
      "Quality of reconstructed image: 6.67398SSIM: 0.800108758462\n"
     ]
    },
    {
     "name": "stdout",
     "output_type": "stream",
     "text": [
      "Lambda: 0.037037037037037035, MSE: 6.67398357352, OriginalError: 8.22812577573\n"
     ]
    },
    {
     "name": "stdout",
     "output_type": "stream",
     "text": [
      "Quality of reconstructed image: 8.82012SSIM: 0.745652194662\n"
     ]
    },
    {
     "name": "stdout",
     "output_type": "stream",
     "text": [
      "Lambda: 0.1111111111111111, MSE: 8.82011898634, OriginalError: 8.22812577573\n"
     ]
    },
    {
     "name": "stdout",
     "output_type": "stream",
     "text": [
      "Quality of reconstructed image: 10.527SSIM: 0.726214542916\n"
     ]
    },
    {
     "name": "stdout",
     "output_type": "stream",
     "text": [
      "Lambda: 0.3333333333333333, MSE: 10.5270383584, OriginalError: 8.22812577573\n"
     ]
    },
    {
     "name": "stdout",
     "output_type": "stream",
     "text": [
      "Quality of reconstructed image: 15.5702SSIM: 0.697165284907\n"
     ]
    },
    {
     "name": "stdout",
     "output_type": "stream",
     "text": [
      "Lambda: 1, MSE: 15.5701898274, OriginalError: 8.22812577573\n"
     ]
    }
   ],
   "source": [
    "from forward_models import denoising\n",
    "from data_pips import BSDS\n",
    "from data_pips import ellipses\n",
    "from Framework import total_variation\n",
    "\n",
    "class tv(total_variation):\n",
    "    experiment_name = 'Standard'\n",
    "    noise_level = 0.01\n",
    "    def_lambda = 0.0015\n",
    "\n",
    "    def get_Data_pip(self):\n",
    "        return ellipses()\n",
    "\n",
    "tv = tv()\n",
    "print(tv.noise_level)\n",
    "lmb = []\n",
    "for k in range(5):\n",
    "    lmb.append(3 **(k -10))\n",
    "tv.find_TV_lambda(lmb)"
   ]
  },
  {
   "cell_type": "code",
   "execution_count": 1,
   "metadata": {},
   "outputs": [
    {
     "name": "stderr",
     "output_type": "stream",
     "text": [
      "C:\\Users\\Seb\\Anaconda3\\envs\\rootclone\\lib\\site-packages\\matplotlib\\__init__.py:1405: UserWarning: \nThis call to matplotlib.use() has no effect because the backend has already\nbeen chosen; matplotlib.use() must be called *before* pylab, matplotlib.pyplot,\nor matplotlib.backends is imported for the first time.\n\n  warnings.warn(_use_error_msg)\n"
     ]
    }
   ],
   "source": [
    ""
   ]
  },
  {
   "cell_type": "code",
   "execution_count": 19,
   "metadata": {
    "collapsed": false
   },
   "outputs": [
    {
     "name": "stdout",
     "output_type": "stream",
     "text": [
      "[3, 4]\n"
     ]
    }
   ],
   "source": [
    "a = [1, 2, 3, 4]\n",
    "b = a[2:4]\n",
    "print(b)"
   ]
  },
  {
   "cell_type": "code",
   "execution_count": 18,
   "metadata": {
    "collapsed": false
   },
   "outputs": [
    {
     "data": {
      "image/png": "[encoded data removed]",
      "text/plain": [
       "<matplotlib.figure.Figure at 0x25521fd8e80>"
      ]
     },
     "metadata": {},
     "output_type": "display_data"
    },
    {
     "name": "stdout",
     "output_type": "stream",
     "text": [
      "237\n0\n"
     ]
    }
   ],
   "source": [
    "path = pp.get_random_path()\n",
    "image = pp.get_pic(path)\n",
    "plt.figure()\n",
    "plt.imshow(image)\n",
    "plt.show()\n",
    "print(np.amax(image))\n",
    "print(np.amin(image))"
   ]
  },
  {
   "cell_type": "code",
   "execution_count": 4,
   "metadata": {},
   "outputs": [
    {
     "name": "stdout",
     "output_type": "stream",
     "text": [
      "C:\\Users\\Seb\\Anaconda3\\envs\\rootclone\\lib\\site-packages\\odl\\contrib\\tensorflow\\__init__.py\n0.6.1.dev0\n"
     ]
    }
   ],
   "source": [
    "import"
   ]
  },
  {
   "cell_type": "code",
   "execution_count": 16,
   "metadata": {},
   "outputs": [],
   "source": [
    "import tensorflow as tf\n",
    "from util import lrelu\n",
    "### resnet architectures\n",
    "def apply_conv(x, filters=32, kernel_size=3):\n",
    "    return tf.layers.conv2d(x, filters=filters, kernel_size=kernel_size, padding='SAME',\n",
    "                            kernel_initializer=tf.contrib.layers.variance_scaling_initializer(),\n",
    "                            activation=lrelu)\n",
    "\n",
    "def resblock(x, filters):\n",
    "    with tf.name_scope('resblock_bn'):\n",
    "        x = tf.identity(x)\n",
    "        update = apply_conv(x, filters=filters)\n",
    "        update = apply_conv(update, filters=filters)\n",
    "\n",
    "        skip = tf.layers.conv2d(x, filters=filters, kernel_size=1, padding='SAME',\n",
    "                                kernel_initializer=tf.contrib.layers.variance_scaling_initializer())\n",
    "        return skip + update\n",
    "    \n",
    "def meanpool(x):\n",
    "    with tf.name_scope('meanpool'):\n",
    "        x = tf.identity(x)\n",
    "        return tf.add_n([x[:, ::2, ::2, :], x[:, 1::2, ::2, :],\n",
    "                         x[:, ::2, 1::2, :], x[:, 1::2, 1::2, :]]) / 4."
   ]
  },
  {
   "cell_type": "code",
   "execution_count": 29,
   "metadata": {},
   "outputs": [],
   "source": [
    "import tensorflow as tf\n",
    "sess = tf.InteractiveSession\n",
    "pic = tf.placeholder(shape=[None, 128, 128, 1],\n",
    "                             dtype=tf.float32)\n",
    "with tf.name_scope('pre_process'):\n",
    "    x = apply_conv(pic, filters=64, kernel_size=3)\n",
    "\n",
    "with tf.name_scope('x1'):\n",
    "    x = resblock(x, 64)\n",
    "\n",
    "with tf.name_scope('x2'):\n",
    "    x = resblock(meanpool(x), filters=64)  # 1/2\n",
    "\n",
    "with tf.name_scope('x3'):\n",
    "    x = resblock(meanpool(x), filters=128)  # 1/4\n",
    "\n",
    "with tf.name_scope('x4'):\n",
    "    x = resblock(meanpool(x), filters=256)  # 1/8\n",
    "\n",
    "\n",
    "with tf.name_scope('post_process'):\n",
    "    flat = tf.contrib.layers.flatten(x)\n",
    "    flat = tf.layers.dense(flat, 1)"
   ]
  },
  {
   "cell_type": "code",
   "execution_count": 30,
   "metadata": {},
   "outputs": [
    {
     "data": {
      "text/plain": [
       "[None, 16, 16, 256]"
      ]
     },
     "execution_count": 30,
     "metadata": {},
     "output_type": "execute_result"
    }
   ],
   "source": [
    "x.get_shape().as_list()"
   ]
  },
  {
   "cell_type": "code",
   "execution_count": null,
   "metadata": {},
   "outputs": [],
   "source": [
    ""
   ]
  }
 ],
 "metadata": {
  "kernelspec": {
   "display_name": "Python 2",
   "language": "python",
   "name": "python2"
  },
  "language_info": {
   "codemirror_mode": {
    "name": "ipython",
    "version": 2.0
   },
   "file_extension": ".py",
   "mimetype": "text/x-python",
   "name": "python",
   "nbconvert_exporter": "python",
   "pygments_lexer": "ipython2",
   "version": "2.7.6"
  }
 },
 "nbformat": 4,
 "nbformat_minor": 0
}