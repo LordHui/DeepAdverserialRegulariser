{
 "cells": [
  {
   "cell_type": "code",
   "execution_count": 1,
   "metadata": {
    "collapsed": false
   },
   "outputs": [
    {
     "name": "stderr",
     "output_type": "stream",
     "text": [
      "C:\\Users\\Seb\\Anaconda3\\envs\\rootclone\\lib\\site-packages\\matplotlib\\__init__.py:1405: UserWarning: \nThis call to matplotlib.use() has no effect because the backend has already\nbeen chosen; matplotlib.use() must be called *before* pylab, matplotlib.pyplot,\nor matplotlib.backends is imported for the first time.\n\n  warnings.warn(_use_error_msg)\n"
     ]
    },
    {
     "name": "stdout",
     "output_type": "stream",
     "text": [
      "Training Data found: 397\nEvaluation Data found: 278\n"
     ]
    },
    {
     "name": "stdout",
     "output_type": "stream",
     "text": [
      "Quality of reconstructed image: 5.13925\n"
     ]
    },
    {
     "name": "stdout",
     "output_type": "stream",
     "text": [
      "Lambda: 6.272254743863069e-07, MSE: 5.1392464724, OriginalError: 7.37852353527\n"
     ]
    },
    {
     "name": "stdout",
     "output_type": "stream",
     "text": [
      "Quality of reconstructed image: 5.08819\n"
     ]
    },
    {
     "name": "stdout",
     "output_type": "stream",
     "text": [
      "Lambda: 1.8816764231589208e-06, MSE: 5.08819334011, OriginalError: 7.37852353527\n"
     ]
    },
    {
     "name": "stdout",
     "output_type": "stream",
     "text": [
      "Quality of reconstructed image: 4.97884\nLambda: 5.645029269476762e-06, MSE: 4.97884133842, OriginalError: 7.37852353527\n"
     ]
    },
    {
     "name": "stdout",
     "output_type": "stream",
     "text": [
      "Quality of reconstructed image: 4.79685\nLambda: 1.6935087808430286e-05, MSE: 4.79684699373, OriginalError: 7.37852353527\n"
     ]
    },
    {
     "name": "stdout",
     "output_type": "stream",
     "text": [
      "Quality of reconstructed image: 4.49969\nLambda: 5.080526342529086e-05, MSE: 4.49968535928, OriginalError: 7.37852353527\n"
     ]
    },
    {
     "name": "stdout",
     "output_type": "stream",
     "text": [
      "Quality of reconstructed image: 3.91641\nLambda: 0.00015241579027587258, MSE: 3.91641231295, OriginalError: 7.37852353527\n"
     ]
    },
    {
     "name": "stdout",
     "output_type": "stream",
     "text": [
      "Quality of reconstructed image: 3.28245\nLambda: 0.0004572473708276177, MSE: 3.28245467864, OriginalError: 7.37852353527\n"
     ]
    },
    {
     "name": "stdout",
     "output_type": "stream",
     "text": [
      "Quality of reconstructed image: 3.40842\n"
     ]
    },
    {
     "name": "stdout",
     "output_type": "stream",
     "text": [
      "Lambda: 0.0013717421124828531, MSE: 3.40841821043, OriginalError: 7.37852353527\n"
     ]
    },
    {
     "name": "stdout",
     "output_type": "stream",
     "text": [
      "Quality of reconstructed image: 4.00516\n"
     ]
    },
    {
     "name": "stdout",
     "output_type": "stream",
     "text": [
      "Lambda: 0.00411522633744856, MSE: 4.00516333401, OriginalError: 7.37852353527\n"
     ]
    },
    {
     "name": "stdout",
     "output_type": "stream",
     "text": [
      "Quality of reconstructed image: 4.88146\n"
     ]
    },
    {
     "name": "stdout",
     "output_type": "stream",
     "text": [
      "Lambda: 0.012345679012345678, MSE: 4.88146223722, OriginalError: 7.37852353527\n"
     ]
    }
   ],
   "source": [
    "import matplotlib.pyplot as plt\n",
    "import numpy as np\n",
    "%matplotlib inline\n",
    "\n",
    "from forward_models import ct\n",
    "from forward_models import denoising\n",
    "\n",
    "from data_pips import BSDS\n",
    "\n",
    "from Framework import adversarial_regulariser\n",
    "from Framework import positiv_adversarial_regulariser\n",
    "from Framework import postprocessing\n",
    "from Framework import iterative_scheme\n",
    "from Framework import total_variation\n",
    "from Framework import generic_framework\n",
    "from Framework import total_variation\n",
    "\n",
    "import util as ut\n",
    "\n",
    "from networks import multiscale_l1_classifier\n",
    "\n",
    "tv = total_variation()\n",
    "lmb = []\n",
    "for k in range(10):\n",
    "    lmb.append(3**(k-13))\n",
    "tv.find_TV_lambda(lmb)"
   ]
  },
  {
   "cell_type": "code",
   "execution_count": 27,
   "metadata": {},
   "outputs": [
    {
     "name": "stdout",
     "output_type": "stream",
     "text": [
      "Training Data found: 397\nEvaluation Data found: 278\n"
     ]
    },
    {
     "data": {
      "image/png": "[encoded data removed]",
      "text/plain": [
       "<matplotlib.figure.Figure at 0x1a7a8b12d30>"
      ]
     },
     "metadata": {},
     "output_type": "display_data"
    }
   ],
   "source": [
    "from skimage.measure import compare_ssim as ssim\n",
    "import util as ut\n",
    "\n",
    "from Framework import generic_framework\n",
    "\n",
    "frame = generic_framework()\n",
    "y, x, fbp = frame.generate_training_data(1)\n",
    "\n",
    "\n",
    "plt.figure(edgecolor = (1,1,1))\n",
    "plt.imshow(y[0,...,0], cmap='Greys')\n",
    "plt.title('Ground truth')\n",
    "plt.axis('off')\n",
    "\n",
    "\n",
    "plt.show()"
   ]
  },
  {
   "cell_type": "code",
   "execution_count": 1,
   "metadata": {},
   "outputs": [
    {
     "name": "stderr",
     "output_type": "stream",
     "text": [
      "C:\\Users\\Seb\\Anaconda3\\envs\\rootclone\\lib\\site-packages\\matplotlib\\__init__.py:1405: UserWarning: \nThis call to matplotlib.use() has no effect because the backend has already\nbeen chosen; matplotlib.use() must be called *before* pylab, matplotlib.pyplot,\nor matplotlib.backends is imported for the first time.\n\n  warnings.warn(_use_error_msg)\n"
     ]
    }
   ],
   "source": [
    ""
   ]
  },
  {
   "cell_type": "code",
   "execution_count": 19,
   "metadata": {
    "collapsed": false
   },
   "outputs": [
    {
     "name": "stdout",
     "output_type": "stream",
     "text": [
      "[3, 4]\n"
     ]
    }
   ],
   "source": [
    "a = [1, 2, 3, 4]\n",
    "b = a[2:4]\n",
    "print(b)"
   ]
  },
  {
   "cell_type": "code",
   "execution_count": 18,
   "metadata": {
    "collapsed": false
   },
   "outputs": [
    {
     "data": {
      "image/png": "[encoded data removed]",
      "text/plain": [
       "<matplotlib.figure.Figure at 0x25521fd8e80>"
      ]
     },
     "metadata": {},
     "output_type": "display_data"
    },
    {
     "name": "stdout",
     "output_type": "stream",
     "text": [
      "237\n0\n"
     ]
    }
   ],
   "source": [
    "path = pp.get_random_path()\n",
    "image = pp.get_pic(path)\n",
    "plt.figure()\n",
    "plt.imshow(image)\n",
    "plt.show()\n",
    "print(np.amax(image))\n",
    "print(np.amin(image))"
   ]
  },
  {
   "cell_type": "code",
   "execution_count": 4,
   "metadata": {},
   "outputs": [
    {
     "name": "stdout",
     "output_type": "stream",
     "text": [
      "C:\\Users\\Seb\\Anaconda3\\envs\\rootclone\\lib\\site-packages\\odl\\contrib\\tensorflow\\__init__.py\n0.6.1.dev0\n"
     ]
    }
   ],
   "source": [
    "import"
   ]
  },
  {
   "cell_type": "code",
   "execution_count": 16,
   "metadata": {},
   "outputs": [],
   "source": [
    "import tensorflow as tf\n",
    "from util import lrelu\n",
    "### resnet architectures\n",
    "def apply_conv(x, filters=32, kernel_size=3):\n",
    "    return tf.layers.conv2d(x, filters=filters, kernel_size=kernel_size, padding='SAME',\n",
    "                            kernel_initializer=tf.contrib.layers.variance_scaling_initializer(),\n",
    "                            activation=lrelu)\n",
    "\n",
    "def resblock(x, filters):\n",
    "    with tf.name_scope('resblock_bn'):\n",
    "        x = tf.identity(x)\n",
    "        update = apply_conv(x, filters=filters)\n",
    "        update = apply_conv(update, filters=filters)\n",
    "\n",
    "        skip = tf.layers.conv2d(x, filters=filters, kernel_size=1, padding='SAME',\n",
    "                                kernel_initializer=tf.contrib.layers.variance_scaling_initializer())\n",
    "        return skip + update\n",
    "    \n",
    "def meanpool(x):\n",
    "    with tf.name_scope('meanpool'):\n",
    "        x = tf.identity(x)\n",
    "        return tf.add_n([x[:, ::2, ::2, :], x[:, 1::2, ::2, :],\n",
    "                         x[:, ::2, 1::2, :], x[:, 1::2, 1::2, :]]) / 4."
   ]
  },
  {
   "cell_type": "code",
   "execution_count": 29,
   "metadata": {},
   "outputs": [],
   "source": [
    "import tensorflow as tf\n",
    "sess = tf.InteractiveSession\n",
    "pic = tf.placeholder(shape=[None, 128, 128, 1],\n",
    "                             dtype=tf.float32)\n",
    "with tf.name_scope('pre_process'):\n",
    "    x = apply_conv(pic, filters=64, kernel_size=3)\n",
    "\n",
    "with tf.name_scope('x1'):\n",
    "    x = resblock(x, 64)\n",
    "\n",
    "with tf.name_scope('x2'):\n",
    "    x = resblock(meanpool(x), filters=64)  # 1/2\n",
    "\n",
    "with tf.name_scope('x3'):\n",
    "    x = resblock(meanpool(x), filters=128)  # 1/4\n",
    "\n",
    "with tf.name_scope('x4'):\n",
    "    x = resblock(meanpool(x), filters=256)  # 1/8\n",
    "\n",
    "\n",
    "with tf.name_scope('post_process'):\n",
    "    flat = tf.contrib.layers.flatten(x)\n",
    "    flat = tf.layers.dense(flat, 1)"
   ]
  },
  {
   "cell_type": "code",
   "execution_count": 30,
   "metadata": {},
   "outputs": [
    {
     "data": {
      "text/plain": [
       "[None, 16, 16, 256]"
      ]
     },
     "execution_count": 30,
     "metadata": {},
     "output_type": "execute_result"
    }
   ],
   "source": [
    "x.get_shape().as_list()"
   ]
  },
  {
   "cell_type": "code",
   "execution_count": null,
   "metadata": {},
   "outputs": [],
   "source": [
    ""
   ]
  }
 ],
 "metadata": {
  "kernelspec": {
   "display_name": "Python 2",
   "language": "python",
   "name": "python2"
  },
  "language_info": {
   "codemirror_mode": {
    "name": "ipython",
    "version": 2.0
   },
   "file_extension": ".py",
   "mimetype": "text/x-python",
   "name": "python",
   "nbconvert_exporter": "python",
   "pygments_lexer": "ipython2",
   "version": "2.7.6"
  }
 },
 "nbformat": 4,
 "nbformat_minor": 0
}